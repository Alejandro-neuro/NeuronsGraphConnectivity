{
 "cells": [
  {
   "attachments": {},
   "cell_type": "markdown",
   "metadata": {},
   "source": [
    "# Libraries"
   ]
  },
  {
   "cell_type": "code",
   "execution_count": 1,
   "metadata": {},
   "outputs": [],
   "source": [
    "import numpy as np\n",
    "from omegaconf import OmegaConf\n",
    "import models\n",
    "import loss_func\n",
    "import train\n",
    "import loader"
   ]
  },
  {
   "attachments": {},
   "cell_type": "markdown",
   "metadata": {},
   "source": [
    "# Load Data"
   ]
  },
  {
   "cell_type": "code",
   "execution_count": 2,
   "metadata": {},
   "outputs": [
    {
     "name": "stdout",
     "output_type": "stream",
     "text": [
      "seed: 42\n",
      "optimize:\n",
      "  optimizer: Adam\n",
      "  lr: 0.001\n",
      "train:\n",
      "  epochs: 100\n",
      "  batch_size: 32\n",
      "dataset:\n",
      "  path: MNIST\n",
      "  test_size: 0.2\n",
      "  train_size: 0.6\n",
      "  val_size: 0.2\n",
      "  num_workers: 2\n",
      "loss: MSE\n",
      "--ip: 127.0.0.1\n",
      "--stdin: 9008\n",
      "--control: 9006\n",
      "--hb: 9005\n",
      "--Session:\n",
      "  signature_scheme: hmac-sha256\n",
      "  key: b\"9832398d-75e8-4677-a650-99a5204a2628\"\n",
      "--shell: 9007\n",
      "--transport: tcp\n",
      "--iopub: 9009\n",
      "--f: c:\\Users\\aleja\\AppData\\Roaming\\jupyter\\runtime\\kernel-v2-24160Zv12T1wKSz1V.json\n",
      "\n"
     ]
    }
   ],
   "source": [
    "cfg = OmegaConf.load(\"config.yaml\")\n",
    "cmd_cfg = OmegaConf.from_cli()\n",
    "cfg = OmegaConf.merge(cfg, cmd_cfg)\n",
    "print(OmegaConf.to_yaml(cfg))"
   ]
  },
  {
   "cell_type": "code",
   "execution_count": 3,
   "metadata": {},
   "outputs": [
    {
     "name": "stdout",
     "output_type": "stream",
     "text": [
      "X_train shape:  (10, 600)\n",
      "X_val shape:  (10, 200)\n",
      "X_test shape:  (10, 200)\n"
     ]
    }
   ],
   "source": [
    "timeseries = np.random.rand(10, 1000)\n",
    "\n",
    "train_loader, val_loader, test_loader = loader.generateLoaders(timeseries, 'pearson')"
   ]
  },
  {
   "cell_type": "code",
   "execution_count": 4,
   "metadata": {},
   "outputs": [
    {
     "name": "stdout",
     "output_type": "stream",
     "text": [
      "Using device: cuda\n",
      "cuda\n",
      "epoch: 10 \t training loss: 0.08755496069788933 \t validation loss: 0.0880552480618159 \t accuracy : 1.0\n",
      "epoch: 20 \t training loss: 0.085481396317482 \t validation loss: 0.08557697385549545 \t accuracy : 1.0\n",
      "epoch: 30 \t training loss: 0.0812800832092762 \t validation loss: 0.08511076122522354 \t accuracy : 1.0\n",
      "epoch: 40 \t training loss: 0.08101287335157395 \t validation loss: 0.08495927353700002 \t accuracy : 1.0\n",
      "epoch: 50 \t training loss: 0.08152497634291649 \t validation loss: 0.0846748302380244 \t accuracy : 1.0\n",
      "epoch: 60 \t training loss: 0.08089155182242394 \t validation loss: 0.08488558729489644 \t accuracy : 1.0\n",
      "epoch: 70 \t training loss: 0.0828028954565525 \t validation loss: 0.08458059281110764 \t accuracy : 1.0\n",
      "epoch: 80 \t training loss: 0.08095723986625672 \t validation loss: 0.08521700650453568 \t accuracy : 1.0\n",
      "epoch: 90 \t training loss: 0.07851542457938195 \t validation loss: 0.08550844093163808 \t accuracy : 1.0\n",
      "epoch: 100 \t training loss: 0.08145254403352738 \t validation loss: 0.0853257601459821 \t accuracy : 1.0\n"
     ]
    }
   ],
   "source": [
    "window = 20\n",
    "model = models.Net(window, 1, 32)\n",
    "\n",
    "lossfn = loss_func.getLoss()\n",
    "\n",
    "import torch\n",
    "\n",
    "optimizer = torch.optim.Adam(model.parameters(), lr=0.001)\n",
    "\n",
    "model, train_losses, val_losses, accuracy_list  = train.train(model, train_loader, val_loader, optimizer)"
   ]
  }
 ],
 "metadata": {
  "kernelspec": {
   "display_name": "Python 3",
   "language": "python",
   "name": "python3"
  },
  "language_info": {
   "codemirror_mode": {
    "name": "ipython",
    "version": 3
   },
   "file_extension": ".py",
   "mimetype": "text/x-python",
   "name": "python",
   "nbconvert_exporter": "python",
   "pygments_lexer": "ipython3",
   "version": "3.10.11"
  },
  "orig_nbformat": 4
 },
 "nbformat": 4,
 "nbformat_minor": 2
}
