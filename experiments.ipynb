{
 "cells": [
  {
   "attachments": {},
   "cell_type": "markdown",
   "metadata": {},
   "source": [
    "# Libraries"
   ]
  },
  {
   "cell_type": "code",
   "execution_count": 11,
   "metadata": {},
   "outputs": [],
   "source": [
    "import numpy as np\n",
    "from omegaconf import OmegaConf\n",
    "import models\n",
    "import loss_func\n",
    "import train\n",
    "import loader"
   ]
  },
  {
   "attachments": {},
   "cell_type": "markdown",
   "metadata": {},
   "source": [
    "# Load Data"
   ]
  },
  {
   "cell_type": "code",
   "execution_count": 6,
   "metadata": {},
   "outputs": [
    {
     "name": "stdout",
     "output_type": "stream",
     "text": [
      "seed: 42\n",
      "optimize:\n",
      "  optimizer: Adam\n",
      "  lr: 0.001\n",
      "train:\n",
      "  epochs: 100\n",
      "  batch_size: 32\n",
      "dataset:\n",
      "  path: MNIST\n",
      "  test_size: 0.2\n",
      "  train_size: 0.8\n",
      "  val_size: 0.2\n",
      "  num_workers: 2\n",
      "--ip: 127.0.0.1\n",
      "--stdin: 9011\n",
      "--control: 9009\n",
      "--hb: 9008\n",
      "--Session:\n",
      "  signature_scheme: hmac-sha256\n",
      "  key: b\"c9f5e196-600c-4bbb-b288-3b91bfe6c092\"\n",
      "--shell: 9010\n",
      "--transport: tcp\n",
      "--iopub: 9012\n",
      "--f: c:\\Users\\aleja\\AppData\\Roaming\\jupyter\\runtime\\kernel-v2-10024ED1tv4bAchKE.json\n",
      "\n"
     ]
    }
   ],
   "source": [
    "cfg = OmegaConf.load(\"config.yaml\")\n",
    "cmd_cfg = OmegaConf.from_cli()\n",
    "cfg = OmegaConf.merge(cfg, cmd_cfg)\n",
    "print(OmegaConf.to_yaml(cfg))"
   ]
  },
  {
   "cell_type": "code",
   "execution_count": 8,
   "metadata": {},
   "outputs": [
    {
     "data": {
      "text/plain": [
       "0.2"
      ]
     },
     "execution_count": 8,
     "metadata": {},
     "output_type": "execute_result"
    }
   ],
   "source": [
    "cfg.dataset.test_size"
   ]
  },
  {
   "cell_type": "code",
   "execution_count": 12,
   "metadata": {},
   "outputs": [
    {
     "ename": "IndexError",
     "evalue": "only integers, slices (`:`), ellipsis (`...`), numpy.newaxis (`None`) and integer or boolean arrays are valid indices",
     "output_type": "error",
     "traceback": [
      "\u001b[1;31m---------------------------------------------------------------------------\u001b[0m",
      "\u001b[1;31mIndexError\u001b[0m                                Traceback (most recent call last)",
      "Cell \u001b[1;32mIn[12], line 3\u001b[0m\n\u001b[0;32m      1\u001b[0m timeseries \u001b[39m=\u001b[39m np\u001b[39m.\u001b[39mrandom\u001b[39m.\u001b[39mrand(\u001b[39m10\u001b[39m, \u001b[39m1000\u001b[39m)\n\u001b[1;32m----> 3\u001b[0m train_loader, val_loader, test_loader \u001b[39m=\u001b[39m loader\u001b[39m.\u001b[39;49mgenerateLoaders(timeseries, \u001b[39m'\u001b[39;49m\u001b[39mpearson\u001b[39;49m\u001b[39m'\u001b[39;49m)\n",
      "File \u001b[1;32mc:\\Users\\aleja\\Documents\\TUDelft\\Repository\\NeuronsGraphConnectivity\\loader.py:108\u001b[0m, in \u001b[0;36mgenerateLoaders\u001b[1;34m(dataset, type)\u001b[0m\n\u001b[0;32m    106\u001b[0m \u001b[39mdef\u001b[39;00m \u001b[39mgenerateLoaders\u001b[39m( dataset, \u001b[39mtype\u001b[39m):\n\u001b[1;32m--> 108\u001b[0m     G \u001b[39m=\u001b[39m generateGraph(dataset,\u001b[39mtype\u001b[39;49m)\n\u001b[0;32m    110\u001b[0m     train_loader,val_loader,test_loader \u001b[39m=\u001b[39m create_partitions(G,dataset)\n\u001b[0;32m    112\u001b[0m     \u001b[39mreturn\u001b[39;00m train_loader,val_loader,test_loader\n",
      "File \u001b[1;32mc:\\Users\\aleja\\Documents\\TUDelft\\Repository\\NeuronsGraphConnectivity\\loader.py:96\u001b[0m, in \u001b[0;36mgenerateGraph\u001b[1;34m(dataset, type)\u001b[0m\n\u001b[0;32m     94\u001b[0m \u001b[39mdef\u001b[39;00m \u001b[39mgenerateGraph\u001b[39m(dataset,\u001b[39mtype\u001b[39m):\n\u001b[1;32m---> 96\u001b[0m     x \u001b[39m=\u001b[39m dataset[\u001b[39m'\u001b[39;49m\u001b[39mtrn\u001b[39;49m\u001b[39m'\u001b[39;49m][\u001b[39m'\u001b[39m\u001b[39mdata\u001b[39m\u001b[39m'\u001b[39m]\n\u001b[0;32m     98\u001b[0m     adj \u001b[39m=\u001b[39m generateAdjacencyMatrix(x,\u001b[39mtype\u001b[39m)    \n\u001b[0;32m    100\u001b[0m     \u001b[39m#create a graph from the correlation matrix\u001b[39;00m\n",
      "\u001b[1;31mIndexError\u001b[0m: only integers, slices (`:`), ellipsis (`...`), numpy.newaxis (`None`) and integer or boolean arrays are valid indices"
     ]
    }
   ],
   "source": [
    "timeseries = np.random.rand(10, 1000)\n",
    "\n",
    "train_loader, val_loader, test_loader = loader.generateLoaders(timeseries, 'pearson')"
   ]
  }
 ],
 "metadata": {
  "kernelspec": {
   "display_name": "Python 3",
   "language": "python",
   "name": "python3"
  },
  "language_info": {
   "codemirror_mode": {
    "name": "ipython",
    "version": 3
   },
   "file_extension": ".py",
   "mimetype": "text/x-python",
   "name": "python",
   "nbconvert_exporter": "python",
   "pygments_lexer": "ipython3",
   "version": "3.10.11"
  },
  "orig_nbformat": 4
 },
 "nbformat": 4,
 "nbformat_minor": 2
}
